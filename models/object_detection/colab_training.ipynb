{
 "cells": [
  {
   "cell_type": "code",
   "execution_count": null,
   "metadata": {},
   "outputs": [],
   "source": [
    "from google.colab import drive\n",
    "drive.mount(\"/content/drive/\")\n",
    "\n",
    "%cd \"/content/drive/MyDrive/Data/RPI/Spring 2023/RCOS/Video-Anomaly-Detection/models/object_detection\""
   ]
  },
  {
   "cell_type": "code",
   "execution_count": null,
   "metadata": {},
   "outputs": [],
   "source": [
    "!pip install timm\n",
    "!pip install mmcv-full==1.7.0 -f https://download.openmmlab.com/mmcv/dist/cu116/torch1.13.1/index.html\n",
    "!pip install mmdet",
    "!pip install git+https://github.com/cocodataset/panopticapi.git -q"
   ]
  },
  {
   "cell_type": "code",
   "execution_count": null,
   "metadata": {},
   "outputs": [],
   "source": [
    "!CUDA_VISIBLE_DEVICES=0 bash ./dist_train.sh configs/fasternet/mask2former_fasternet_l_coco-panoptic.py 1 --work-dir work_dirs/mask2former_fasternet_l_coco-panoptic/$(date +'%Y%m%d_%H%M%S')"
   ]
  }
 ],
 "metadata": {
  "language_info": {
   "name": "python"
  },
  "orig_nbformat": 4
 },
 "nbformat": 4,
 "nbformat_minor": 2
}
